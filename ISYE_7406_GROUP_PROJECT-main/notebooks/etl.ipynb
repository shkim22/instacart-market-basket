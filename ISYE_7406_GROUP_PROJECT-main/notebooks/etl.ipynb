{
 "cells": [
  {
   "cell_type": "markdown",
   "metadata": {},
   "source": [
    "# ReadME\n",
    "\n",
    "1) Make sure you downloaded the raw data and ran the EDA notebook\n",
    "2) Now download the neo4j community edition\n",
    "3) Tried using the python api but the upload times were horrendous. So you will need to upload via CLI, the command is there in "
   ]
  },
  {
   "cell_type": "code",
   "execution_count": 5,
   "metadata": {},
   "outputs": [],
   "source": [
    "import os\n",
    "import sqlite3\n",
    "import pandas as pd\n",
    "import math\n",
    "import concurrent\n",
    "\n",
    "orders_df = pd.read_csv('../data/raw_data/orders.csv')\n",
    "order_products_prior = pd.read_csv('../data/raw_data/order_products__prior.csv')\n",
    "order_products_train = pd.read_csv('../data/raw_data/order_products__train.csv')\n",
    "df_products = pd.read_csv('../data/raw_data/products.csv')\n",
    "df_aisles = pd.read_csv('../data/raw_data/aisles.csv')\n",
    "df_departments = pd.read_csv('../data/raw_data/departments.csv')\n",
    "\n",
    "# Database path\n",
    "db_path = '../data/consumption_data/INSTACART.db'\n",
    "\n",
    "\n",
    "if not os.path.exists(db_path):\n",
    "    conn = sqlite3.connect(db_path)\n",
    "    cur = conn.cursor()\n",
    "\n",
    "    cur.execute('''\n",
    "        CREATE TABLE aisles (\n",
    "            aisle_id INTEGER PRIMARY KEY,\n",
    "            aisle TEXT\n",
    "        );\n",
    "    ''')\n",
    "    cur.execute('''\n",
    "        CREATE TABLE departments (\n",
    "            department_id INTEGER PRIMARY KEY,\n",
    "            department TEXT\n",
    "        );\n",
    "    ''')\n",
    "    cur.execute('''\n",
    "        CREATE TABLE products (\n",
    "            product_id INTEGER PRIMARY KEY,\n",
    "            product_name TEXT,\n",
    "            aisle_id INTEGER,\n",
    "            department_id INTEGER,\n",
    "            FOREIGN KEY (aisle_id) REFERENCES aisles(aisle_id),\n",
    "            FOREIGN KEY (department_id) REFERENCES departments(department_id)\n",
    "        );\n",
    "    ''')\n",
    "    cur.execute('''\n",
    "        CREATE TABLE orders (\n",
    "            order_id INTEGER PRIMARY KEY,\n",
    "            user_id INTEGER,\n",
    "            eval_set TEXT,\n",
    "            order_number INTEGER,\n",
    "            order_dow INTEGER,\n",
    "            order_hour_of_day INTEGER,\n",
    "            days_since_prior_order REAL\n",
    "        );\n",
    "    ''')\n",
    "    cur.execute('''\n",
    "        CREATE TABLE order_products (\n",
    "            order_id INTEGER,\n",
    "            product_id INTEGER,\n",
    "            add_to_cart_order INTEGER,\n",
    "            reordered INTEGER,\n",
    "            FOREIGN KEY (order_id) REFERENCES orders(order_id),\n",
    "            FOREIGN KEY (product_id) REFERENCES products(product_id)\n",
    "        );\n",
    "    ''')\n",
    "\n",
    "    conn.commit()\n",
    "\n",
    "    orders_df.to_sql(name='orders', con=conn, if_exists='replace', index=False)\n",
    "    order_products_prior.to_sql(name='order_products', con=conn, if_exists='replace', index=False)\n",
    "    order_products_train.to_sql(name='order_products', con=conn, if_exists='append', index=False)\n",
    "    df_products.to_sql(name='products', con=conn, if_exists='replace', index=False)\n",
    "    df_aisles.to_sql(name='aisles', con=conn, if_exists='replace', index=False)\n",
    "    df_departments.to_sql(name='departments', con=conn, if_exists='replace', index=False)\n",
    "    \n",
    "    conn.close()\n",
    "\n"
   ]
  },
  {
   "cell_type": "markdown",
   "metadata": {},
   "source": [
    "![](graph.svg)"
   ]
  }
 ],
 "metadata": {
  "kernelspec": {
   "display_name": "mgt_6203",
   "language": "python",
   "name": "python3"
  },
  "language_info": {
   "codemirror_mode": {
    "name": "ipython",
    "version": 3
   },
   "file_extension": ".py",
   "mimetype": "text/x-python",
   "name": "python",
   "nbconvert_exporter": "python",
   "pygments_lexer": "ipython3",
   "version": "3.10.0"
  }
 },
 "nbformat": 4,
 "nbformat_minor": 2
}
